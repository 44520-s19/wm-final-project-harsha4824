{
 "cells": [
  {
   "cell_type": "markdown",
   "metadata": {},
   "source": [
    "# Finding popularity of five video games using twitter"
   ]
  },
  {
   "cell_type": "markdown",
   "metadata": {},
   "source": [
    "## Name: Harsha Vardhan Reddy Nallavolu"
   ]
  },
  {
   "cell_type": "markdown",
   "metadata": {},
   "source": [
    "### Procedure:\n",
    "1. Imported the tweets from five gaming accounts\n",
    "2. Pickled tweets from those accounts\n",
    "3. Calculated the favourite counts\n",
    "4. Calculated the retweet counts\n",
    "5. projected the results using matplotlib\n",
    "6. Drawn the conclusion from the result"
   ]
  },
  {
   "cell_type": "code",
   "execution_count": 18,
   "metadata": {},
   "outputs": [],
   "source": [
    "import tweepy\n",
    "from twitter_keys import consumer_key, consumer_secret, access_token, access_secret\n",
    "import pickle\n",
    "\n",
    "auth = tweepy.OAuthHandler(consumer_key, consumer_secret)\n",
    "auth.set_access_token(access_token, access_secret)\n",
    "\n",
    "api = tweepy.API(auth)\n",
    "\n",
    "FA = api.user_timeline('EASPORTSFIFA')\n",
    "with open('EASPORTSFIFA.pkl', 'wb') as f:\n",
    "    pickle.dump(FA, f)\n",
    "    \n",
    "MC = api.user_timeline('Minecraft')\n",
    "with open('Minecraft.pkl', 'wb') as f:\n",
    "    pickle.dump(MC, f)\n",
    "    \n",
    "CC = api.user_timeline('ClashofClans')\n",
    "with open('ClashofClans.pkl', 'wb') as f:\n",
    "    pickle.dump(CC, f)\n",
    "\n",
    "PG = api.user_timeline('PUBG')\n",
    "with open('PUBG.pkl', 'wb') as f:\n",
    "    pickle.dump(PG, f)\n",
    "\n",
    "FN = api.user_timeline('FortniteGame')\n",
    "with open('FortniteGame.pkl', 'wb') as f:\n",
    "    pickle.dump(FN, f)    "
   ]
  },
  {
   "cell_type": "code",
   "execution_count": 19,
   "metadata": {},
   "outputs": [],
   "source": [
    "import pickle\n",
    "\n",
    "with open('EASPORTSFIFA.pkl', 'rb') as f:\n",
    "    FA = pickle.load(f)\n",
    "with open('Minecraft.pkl', 'rb') as f:\n",
    "    MC = pickle.load(f)\n",
    "with open('PUBG.pkl', 'rb') as f:\n",
    "    PG = pickle.load(f)\n",
    "with open('ClashofClans.pkl', 'rb') as f:\n",
    "    CC = pickle.load(f)\n",
    "with open('FortniteGame.pkl', 'rb') as f:\n",
    "    FN = pickle.load(f)"
   ]
  },
  {
   "cell_type": "code",
   "execution_count": 35,
   "metadata": {},
   "outputs": [
    {
     "name": "stdout",
     "output_type": "stream",
     "text": [
      "Facourite count of FIFA:  6334\n",
      "Facourite count of Mine craft:  1696\n",
      "Facourite count of PUBG:  1451\n",
      "Facourite count of Clash of Clans:  725\n",
      "Facourite count of Fortnite:  2782\n"
     ]
    }
   ],
   "source": [
    "print('Facourite count of FIFA: ',FA[2].favorite_count)\n",
    "print('Facourite count of Mine craft: ',MC[9].favorite_count)\n",
    "print('Facourite count of PUBG: ',PG[9].favorite_count)\n",
    "print('Facourite count of Clash of Clans: ',CC[3].favorite_count)\n",
    "print('Facourite count of Fortnite: ',FN[9].favorite_count)"
   ]
  },
  {
   "cell_type": "code",
   "execution_count": 36,
   "metadata": {},
   "outputs": [
    {
     "name": "stdout",
     "output_type": "stream",
     "text": [
      "Retweet count of FIFA:  454\n",
      "Retweet count of Mine craft:  106\n",
      "Retweet count of PUBG:  253\n",
      "Retweet count of Clash of Clans:  58\n",
      "Retweet count of Fortnite:  149\n"
     ]
    }
   ],
   "source": [
    "print('Retweet count of FIFA: ',FA[2].retweet_count)\n",
    "print('Retweet count of Mine craft: ',MC[9].retweet_count)\n",
    "print('Retweet count of PUBG: ',PG[9].retweet_count)\n",
    "print('Retweet count of Clash of Clans: ',CC[3].retweet_count)\n",
    "print('Retweet count of Fortnite: ',FN[9].retweet_count)"
   ]
  },
  {
   "cell_type": "code",
   "execution_count": 34,
   "metadata": {
    "scrolled": true
   },
   "outputs": [
    {
     "data": {
      "image/png": "[encoded data removed]",
      "text/plain": [
       "<Figure size 921.6x633.6 with 1 Axes>"
      ]
     },
     "metadata": {
      "needs_background": "light"
     },
     "output_type": "display_data"
    }
   ],
   "source": [
    "import matplotlib.pyplot as plt\n",
    "import numpy as np\n",
    "performance1 = (FA[2].favorite_count,MC[9].favorite_count,PG[9].favorite_count,CC[3].favorite_count,FN[9].favorite_count)\n",
    "performance2 = (FA[2].retweet_count,MC[9].retweet_count,PG[9].retweet_count,CC[3].retweet_count,FN[9].retweet_count)\n",
    "\n",
    "ind = np.arange(len(performance1)) \n",
    "width = 0.35 \n",
    "fig, ax = plt.subplots()\n",
    "rects1 = ax.bar(ind - width/2, performance1,label='Favourite count')\n",
    "rects2 = ax.bar(ind + width/2, performance2,label='Retweet count')\n",
    "ax.set_ylabel('Scores')\n",
    "ax.set_title('favourite_count VS Retweet_count')\n",
    "ax.set_xticks(ind)\n",
    "ax.set_xticklabels(('FIFA', 'Mine craft', 'PUBG', 'Clash of Clans', 'Fortnite'))\n",
    "ax.legend()\n",
    "\n",
    "\n",
    "def autolabel(xpos='center'):\n",
    "    ha = {'center': 'center', 'right': 'left', 'left': 'right'}\n",
    "\n",
    "autolabel(performance1)\n",
    "autolabel(performance2)\n",
    "\n",
    "plt.tight_layout()\n",
    "\n",
    "plt.show()"
   ]
  },
  {
   "cell_type": "markdown",
   "metadata": {},
   "source": [
    "## Conclusion:\n",
    "From the above application we can say that the highest number of retweets and favourite_counts are for FIFA and the least is for clash of clans. This says that FIFA game is more popular and has more reach into gamers in video game market than clash of clans.\n",
    "'Mine craft' and 'clash of clans' has no big difference in retweet count but has a big difference in favourite count.\n",
    "PUBG has good number of retweets but less number of favourite counts compared to others.\n"
   ]
  }
 ],
 "metadata": {
  "kernelspec": {
   "display_name": "Python 3",
   "language": "python",
   "name": "python3"
  },
  "language_info": {
   "codemirror_mode": {
    "name": "ipython",
    "version": 3
   },
   "file_extension": ".py",
   "mimetype": "text/x-python",
   "name": "python",
   "nbconvert_exporter": "python",
   "pygments_lexer": "ipython3",
   "version": "3.7.3"
  }
 },
 "nbformat": 4,
 "nbformat_minor": 2
}
